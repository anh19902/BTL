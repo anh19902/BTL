{
 "cells": [
  {
   "cell_type": "markdown",
   "id": "d62e6e58",
   "metadata": {},
   "source": [
    "# 1. Load Data"
   ]
  },
  {
   "cell_type": "code",
   "execution_count": 1,
   "id": "c4bcf91a",
   "metadata": {},
   "outputs": [],
   "source": [
    "\n",
    "import pandas as pd\n",
    "\n",
    "df = pd.read_excel('Online Retail.xlsx', sheet_name='Online Retail')\n"
   ]
  },
  {
   "cell_type": "code",
   "execution_count": 2,
   "id": "ac9770c2",
   "metadata": {},
   "outputs": [
    {
     "data": {
      "text/html": [
       "<div>\n",
       "<style scoped>\n",
       "    .dataframe tbody tr th:only-of-type {\n",
       "        vertical-align: middle;\n",
       "    }\n",
       "\n",
       "    .dataframe tbody tr th {\n",
       "        vertical-align: top;\n",
       "    }\n",
       "\n",
       "    .dataframe thead th {\n",
       "        text-align: right;\n",
       "    }\n",
       "</style>\n",
       "<table border=\"1\" class=\"dataframe\">\n",
       "  <thead>\n",
       "    <tr style=\"text-align: right;\">\n",
       "      <th></th>\n",
       "      <th>InvoiceNo</th>\n",
       "      <th>StockCode</th>\n",
       "      <th>Description</th>\n",
       "      <th>Quantity</th>\n",
       "      <th>InvoiceDate</th>\n",
       "      <th>UnitPrice</th>\n",
       "      <th>CustomerID</th>\n",
       "      <th>Country</th>\n",
       "    </tr>\n",
       "  </thead>\n",
       "  <tbody>\n",
       "    <tr>\n",
       "      <th>0</th>\n",
       "      <td>536365</td>\n",
       "      <td>85123A</td>\n",
       "      <td>WHITE HANGING HEART T-LIGHT HOLDER</td>\n",
       "      <td>6</td>\n",
       "      <td>2010-12-01 08:26:00</td>\n",
       "      <td>2.55</td>\n",
       "      <td>17850.0</td>\n",
       "      <td>United Kingdom</td>\n",
       "    </tr>\n",
       "    <tr>\n",
       "      <th>1</th>\n",
       "      <td>536365</td>\n",
       "      <td>71053</td>\n",
       "      <td>WHITE METAL LANTERN</td>\n",
       "      <td>6</td>\n",
       "      <td>2010-12-01 08:26:00</td>\n",
       "      <td>3.39</td>\n",
       "      <td>17850.0</td>\n",
       "      <td>United Kingdom</td>\n",
       "    </tr>\n",
       "    <tr>\n",
       "      <th>2</th>\n",
       "      <td>536365</td>\n",
       "      <td>84406B</td>\n",
       "      <td>CREAM CUPID HEARTS COAT HANGER</td>\n",
       "      <td>8</td>\n",
       "      <td>2010-12-01 08:26:00</td>\n",
       "      <td>2.75</td>\n",
       "      <td>17850.0</td>\n",
       "      <td>United Kingdom</td>\n",
       "    </tr>\n",
       "    <tr>\n",
       "      <th>3</th>\n",
       "      <td>536365</td>\n",
       "      <td>84029G</td>\n",
       "      <td>KNITTED UNION FLAG HOT WATER BOTTLE</td>\n",
       "      <td>6</td>\n",
       "      <td>2010-12-01 08:26:00</td>\n",
       "      <td>3.39</td>\n",
       "      <td>17850.0</td>\n",
       "      <td>United Kingdom</td>\n",
       "    </tr>\n",
       "    <tr>\n",
       "      <th>4</th>\n",
       "      <td>536365</td>\n",
       "      <td>84029E</td>\n",
       "      <td>RED WOOLLY HOTTIE WHITE HEART.</td>\n",
       "      <td>6</td>\n",
       "      <td>2010-12-01 08:26:00</td>\n",
       "      <td>3.39</td>\n",
       "      <td>17850.0</td>\n",
       "      <td>United Kingdom</td>\n",
       "    </tr>\n",
       "  </tbody>\n",
       "</table>\n",
       "</div>"
      ],
      "text/plain": [
       "  InvoiceNo StockCode                          Description  Quantity  \\\n",
       "0    536365    85123A   WHITE HANGING HEART T-LIGHT HOLDER         6   \n",
       "1    536365     71053                  WHITE METAL LANTERN         6   \n",
       "2    536365    84406B       CREAM CUPID HEARTS COAT HANGER         8   \n",
       "3    536365    84029G  KNITTED UNION FLAG HOT WATER BOTTLE         6   \n",
       "4    536365    84029E       RED WOOLLY HOTTIE WHITE HEART.         6   \n",
       "\n",
       "          InvoiceDate  UnitPrice  CustomerID         Country  \n",
       "0 2010-12-01 08:26:00       2.55     17850.0  United Kingdom  \n",
       "1 2010-12-01 08:26:00       3.39     17850.0  United Kingdom  \n",
       "2 2010-12-01 08:26:00       2.75     17850.0  United Kingdom  \n",
       "3 2010-12-01 08:26:00       3.39     17850.0  United Kingdom  \n",
       "4 2010-12-01 08:26:00       3.39     17850.0  United Kingdom  "
      ]
     },
     "execution_count": 2,
     "metadata": {},
     "output_type": "execute_result"
    }
   ],
   "source": [
    "df.head()"
   ]
  },
  {
   "cell_type": "markdown",
   "id": "7e283928",
   "metadata": {},
   "source": [
    "# 2. Date Clean-Up"
   ]
  },
  {
   "cell_type": "markdown",
   "id": "11a9e8d7",
   "metadata": {},
   "source": [
    "# ignore negative quantity"
   ]
  },
  {
   "cell_type": "code",
   "execution_count": 3,
   "id": "73d4061c",
   "metadata": {},
   "outputs": [],
   "source": [
    "df = df.loc[df['Quantity'] > 0]"
   ]
  },
  {
   "cell_type": "markdown",
   "id": "28be3402",
   "metadata": {},
   "source": [
    "# remove records with NA"
   ]
  },
  {
   "cell_type": "code",
   "execution_count": 4,
   "id": "690a9b76",
   "metadata": {},
   "outputs": [],
   "source": [
    "\n",
    "df = df[pd.notnull(df['CustomerID'])]"
   ]
  },
  {
   "cell_type": "markdown",
   "id": "c232e300",
   "metadata": {},
   "source": [
    "# excluding incomplete month"
   ]
  },
  {
   "cell_type": "code",
   "execution_count": 5,
   "id": "d2e8edbb",
   "metadata": {},
   "outputs": [],
   "source": [
    "\n",
    "df = df.loc[df['InvoiceDate'] < '2011-12-01']"
   ]
  },
  {
   "cell_type": "markdown",
   "id": "8382c1e3",
   "metadata": {},
   "source": [
    "# total sales"
   ]
  },
  {
   "cell_type": "code",
   "execution_count": 6,
   "id": "914c3f85",
   "metadata": {},
   "outputs": [],
   "source": [
    "\n",
    "df['Sales'] = df['Quantity'] * df['UnitPrice']"
   ]
  },
  {
   "cell_type": "markdown",
   "id": "f7c2203b",
   "metadata": {},
   "source": [
    "# per customer data"
   ]
  },
  {
   "cell_type": "code",
   "execution_count": 7,
   "id": "225f1d87",
   "metadata": {},
   "outputs": [],
   "source": [
    "\n",
    "customer_df = df.groupby('CustomerID').agg({ 'Sales': sum,\n",
    "'InvoiceNo': lambda x: x.nunique()\n",
    "})\n",
    "\n",
    "customer_df.columns = ['TotalSales', 'OrderCount']\n",
    " \n",
    "customer_df['AvgOrderValue'] = customer_df['TotalSales']/customer_df['OrderCount']\n"
   ]
  },
  {
   "cell_type": "code",
   "execution_count": 8,
   "id": "cef4a9f1",
   "metadata": {},
   "outputs": [
    {
     "data": {
      "text/html": [
       "<div>\n",
       "<style scoped>\n",
       "    .dataframe tbody tr th:only-of-type {\n",
       "        vertical-align: middle;\n",
       "    }\n",
       "\n",
       "    .dataframe tbody tr th {\n",
       "        vertical-align: top;\n",
       "    }\n",
       "\n",
       "    .dataframe thead th {\n",
       "        text-align: right;\n",
       "    }\n",
       "</style>\n",
       "<table border=\"1\" class=\"dataframe\">\n",
       "  <thead>\n",
       "    <tr style=\"text-align: right;\">\n",
       "      <th></th>\n",
       "      <th>TotalSales</th>\n",
       "      <th>OrderCount</th>\n",
       "      <th>AvgOrderValue</th>\n",
       "    </tr>\n",
       "    <tr>\n",
       "      <th>CustomerID</th>\n",
       "      <th></th>\n",
       "      <th></th>\n",
       "      <th></th>\n",
       "    </tr>\n",
       "  </thead>\n",
       "  <tbody>\n",
       "    <tr>\n",
       "      <th>12346.0</th>\n",
       "      <td>77183.60</td>\n",
       "      <td>1</td>\n",
       "      <td>77183.600000</td>\n",
       "    </tr>\n",
       "    <tr>\n",
       "      <th>12347.0</th>\n",
       "      <td>4085.18</td>\n",
       "      <td>6</td>\n",
       "      <td>680.863333</td>\n",
       "    </tr>\n",
       "    <tr>\n",
       "      <th>12348.0</th>\n",
       "      <td>1797.24</td>\n",
       "      <td>4</td>\n",
       "      <td>449.310000</td>\n",
       "    </tr>\n",
       "    <tr>\n",
       "      <th>12349.0</th>\n",
       "      <td>1757.55</td>\n",
       "      <td>1</td>\n",
       "      <td>1757.550000</td>\n",
       "    </tr>\n",
       "    <tr>\n",
       "      <th>12350.0</th>\n",
       "      <td>334.40</td>\n",
       "      <td>1</td>\n",
       "      <td>334.400000</td>\n",
       "    </tr>\n",
       "    <tr>\n",
       "      <th>12352.0</th>\n",
       "      <td>2506.04</td>\n",
       "      <td>8</td>\n",
       "      <td>313.255000</td>\n",
       "    </tr>\n",
       "    <tr>\n",
       "      <th>12353.0</th>\n",
       "      <td>89.00</td>\n",
       "      <td>1</td>\n",
       "      <td>89.000000</td>\n",
       "    </tr>\n",
       "    <tr>\n",
       "      <th>12354.0</th>\n",
       "      <td>1079.40</td>\n",
       "      <td>1</td>\n",
       "      <td>1079.400000</td>\n",
       "    </tr>\n",
       "    <tr>\n",
       "      <th>12355.0</th>\n",
       "      <td>459.40</td>\n",
       "      <td>1</td>\n",
       "      <td>459.400000</td>\n",
       "    </tr>\n",
       "    <tr>\n",
       "      <th>12356.0</th>\n",
       "      <td>2811.43</td>\n",
       "      <td>3</td>\n",
       "      <td>937.143333</td>\n",
       "    </tr>\n",
       "    <tr>\n",
       "      <th>12357.0</th>\n",
       "      <td>6207.67</td>\n",
       "      <td>1</td>\n",
       "      <td>6207.670000</td>\n",
       "    </tr>\n",
       "    <tr>\n",
       "      <th>12358.0</th>\n",
       "      <td>484.86</td>\n",
       "      <td>1</td>\n",
       "      <td>484.860000</td>\n",
       "    </tr>\n",
       "    <tr>\n",
       "      <th>12359.0</th>\n",
       "      <td>6372.58</td>\n",
       "      <td>4</td>\n",
       "      <td>1593.145000</td>\n",
       "    </tr>\n",
       "    <tr>\n",
       "      <th>12360.0</th>\n",
       "      <td>2662.06</td>\n",
       "      <td>3</td>\n",
       "      <td>887.353333</td>\n",
       "    </tr>\n",
       "    <tr>\n",
       "      <th>12361.0</th>\n",
       "      <td>189.90</td>\n",
       "      <td>1</td>\n",
       "      <td>189.900000</td>\n",
       "    </tr>\n",
       "    <tr>\n",
       "      <th>12362.0</th>\n",
       "      <td>4697.19</td>\n",
       "      <td>9</td>\n",
       "      <td>521.910000</td>\n",
       "    </tr>\n",
       "    <tr>\n",
       "      <th>12363.0</th>\n",
       "      <td>552.00</td>\n",
       "      <td>2</td>\n",
       "      <td>276.000000</td>\n",
       "    </tr>\n",
       "    <tr>\n",
       "      <th>12364.0</th>\n",
       "      <td>1002.78</td>\n",
       "      <td>3</td>\n",
       "      <td>334.260000</td>\n",
       "    </tr>\n",
       "    <tr>\n",
       "      <th>12365.0</th>\n",
       "      <td>641.38</td>\n",
       "      <td>2</td>\n",
       "      <td>320.690000</td>\n",
       "    </tr>\n",
       "    <tr>\n",
       "      <th>12370.0</th>\n",
       "      <td>3545.69</td>\n",
       "      <td>4</td>\n",
       "      <td>886.422500</td>\n",
       "    </tr>\n",
       "  </tbody>\n",
       "</table>\n",
       "</div>"
      ],
      "text/plain": [
       "            TotalSales  OrderCount  AvgOrderValue\n",
       "CustomerID                                       \n",
       "12346.0       77183.60           1   77183.600000\n",
       "12347.0        4085.18           6     680.863333\n",
       "12348.0        1797.24           4     449.310000\n",
       "12349.0        1757.55           1    1757.550000\n",
       "12350.0         334.40           1     334.400000\n",
       "12352.0        2506.04           8     313.255000\n",
       "12353.0          89.00           1      89.000000\n",
       "12354.0        1079.40           1    1079.400000\n",
       "12355.0         459.40           1     459.400000\n",
       "12356.0        2811.43           3     937.143333\n",
       "12357.0        6207.67           1    6207.670000\n",
       "12358.0         484.86           1     484.860000\n",
       "12359.0        6372.58           4    1593.145000\n",
       "12360.0        2662.06           3     887.353333\n",
       "12361.0         189.90           1     189.900000\n",
       "12362.0        4697.19           9     521.910000\n",
       "12363.0         552.00           2     276.000000\n",
       "12364.0        1002.78           3     334.260000\n",
       "12365.0         641.38           2     320.690000\n",
       "12370.0        3545.69           4     886.422500"
      ]
     },
     "execution_count": 8,
     "metadata": {},
     "output_type": "execute_result"
    }
   ],
   "source": [
    "customer_df.head(20)"
   ]
  },
  {
   "cell_type": "markdown",
   "id": "2a933b5a",
   "metadata": {},
   "source": [
    "# check for normalization - mean of 0 & std of 1"
   ]
  },
  {
   "cell_type": "code",
   "execution_count": 9,
   "id": "a181cde7",
   "metadata": {},
   "outputs": [],
   "source": [
    "\n",
    "rank_df = customer_df.rank(method='first')"
   ]
  },
  {
   "cell_type": "code",
   "execution_count": 10,
   "id": "3e6d7d80",
   "metadata": {},
   "outputs": [
    {
     "data": {
      "text/html": [
       "<div>\n",
       "<style scoped>\n",
       "    .dataframe tbody tr th:only-of-type {\n",
       "        vertical-align: middle;\n",
       "    }\n",
       "\n",
       "    .dataframe tbody tr th {\n",
       "        vertical-align: top;\n",
       "    }\n",
       "\n",
       "    .dataframe thead th {\n",
       "        text-align: right;\n",
       "    }\n",
       "</style>\n",
       "<table border=\"1\" class=\"dataframe\">\n",
       "  <thead>\n",
       "    <tr style=\"text-align: right;\">\n",
       "      <th></th>\n",
       "      <th>TotalSales</th>\n",
       "      <th>OrderCount</th>\n",
       "      <th>AvgOrderValue</th>\n",
       "    </tr>\n",
       "    <tr>\n",
       "      <th>CustomerID</th>\n",
       "      <th></th>\n",
       "      <th></th>\n",
       "      <th></th>\n",
       "    </tr>\n",
       "  </thead>\n",
       "  <tbody>\n",
       "    <tr>\n",
       "      <th>12346.0</th>\n",
       "      <td>4290.0</td>\n",
       "      <td>1.0</td>\n",
       "      <td>4298.0</td>\n",
       "    </tr>\n",
       "    <tr>\n",
       "      <th>12347.0</th>\n",
       "      <td>3958.0</td>\n",
       "      <td>3470.0</td>\n",
       "      <td>3888.0</td>\n",
       "    </tr>\n",
       "    <tr>\n",
       "      <th>12348.0</th>\n",
       "      <td>3350.0</td>\n",
       "      <td>2861.0</td>\n",
       "      <td>3303.0</td>\n",
       "    </tr>\n",
       "    <tr>\n",
       "      <th>12349.0</th>\n",
       "      <td>3321.0</td>\n",
       "      <td>2.0</td>\n",
       "      <td>4238.0</td>\n",
       "    </tr>\n",
       "    <tr>\n",
       "      <th>12350.0</th>\n",
       "      <td>1241.0</td>\n",
       "      <td>3.0</td>\n",
       "      <td>2561.0</td>\n",
       "    </tr>\n",
       "    <tr>\n",
       "      <th>12352.0</th>\n",
       "      <td>3630.0</td>\n",
       "      <td>3774.0</td>\n",
       "      <td>2360.0</td>\n",
       "    </tr>\n",
       "    <tr>\n",
       "      <th>12353.0</th>\n",
       "      <td>119.0</td>\n",
       "      <td>4.0</td>\n",
       "      <td>201.0</td>\n",
       "    </tr>\n",
       "    <tr>\n",
       "      <th>12354.0</th>\n",
       "      <td>2781.0</td>\n",
       "      <td>5.0</td>\n",
       "      <td>4151.0</td>\n",
       "    </tr>\n",
       "    <tr>\n",
       "      <th>12355.0</th>\n",
       "      <td>1670.0</td>\n",
       "      <td>6.0</td>\n",
       "      <td>3354.0</td>\n",
       "    </tr>\n",
       "    <tr>\n",
       "      <th>12356.0</th>\n",
       "      <td>3724.0</td>\n",
       "      <td>2346.0</td>\n",
       "      <td>4082.0</td>\n",
       "    </tr>\n",
       "    <tr>\n",
       "      <th>12357.0</th>\n",
       "      <td>4111.0</td>\n",
       "      <td>7.0</td>\n",
       "      <td>4295.0</td>\n",
       "    </tr>\n",
       "    <tr>\n",
       "      <th>12358.0</th>\n",
       "      <td>1738.0</td>\n",
       "      <td>8.0</td>\n",
       "      <td>3447.0</td>\n",
       "    </tr>\n",
       "    <tr>\n",
       "      <th>12359.0</th>\n",
       "      <td>4117.0</td>\n",
       "      <td>2862.0</td>\n",
       "      <td>4225.0</td>\n",
       "    </tr>\n",
       "    <tr>\n",
       "      <th>12360.0</th>\n",
       "      <td>3680.0</td>\n",
       "      <td>2347.0</td>\n",
       "      <td>4057.0</td>\n",
       "    </tr>\n",
       "    <tr>\n",
       "      <th>12361.0</th>\n",
       "      <td>607.0</td>\n",
       "      <td>9.0</td>\n",
       "      <td>1186.0</td>\n",
       "    </tr>\n",
       "    <tr>\n",
       "      <th>12362.0</th>\n",
       "      <td>4016.0</td>\n",
       "      <td>3871.0</td>\n",
       "      <td>3578.0</td>\n",
       "    </tr>\n",
       "    <tr>\n",
       "      <th>12363.0</th>\n",
       "      <td>1905.0</td>\n",
       "      <td>1540.0</td>\n",
       "      <td>2011.0</td>\n",
       "    </tr>\n",
       "    <tr>\n",
       "      <th>12364.0</th>\n",
       "      <td>2678.0</td>\n",
       "      <td>2348.0</td>\n",
       "      <td>2560.0</td>\n",
       "    </tr>\n",
       "  </tbody>\n",
       "</table>\n",
       "</div>"
      ],
      "text/plain": [
       "            TotalSales  OrderCount  AvgOrderValue\n",
       "CustomerID                                       \n",
       "12346.0         4290.0         1.0         4298.0\n",
       "12347.0         3958.0      3470.0         3888.0\n",
       "12348.0         3350.0      2861.0         3303.0\n",
       "12349.0         3321.0         2.0         4238.0\n",
       "12350.0         1241.0         3.0         2561.0\n",
       "12352.0         3630.0      3774.0         2360.0\n",
       "12353.0          119.0         4.0          201.0\n",
       "12354.0         2781.0         5.0         4151.0\n",
       "12355.0         1670.0         6.0         3354.0\n",
       "12356.0         3724.0      2346.0         4082.0\n",
       "12357.0         4111.0         7.0         4295.0\n",
       "12358.0         1738.0         8.0         3447.0\n",
       "12359.0         4117.0      2862.0         4225.0\n",
       "12360.0         3680.0      2347.0         4057.0\n",
       "12361.0          607.0         9.0         1186.0\n",
       "12362.0         4016.0      3871.0         3578.0\n",
       "12363.0         1905.0      1540.0         2011.0\n",
       "12364.0         2678.0      2348.0         2560.0"
      ]
     },
     "execution_count": 10,
     "metadata": {},
     "output_type": "execute_result"
    }
   ],
   "source": [
    "rank_df.head(18)"
   ]
  },
  {
   "cell_type": "code",
   "execution_count": 11,
   "id": "fb6ead32",
   "metadata": {},
   "outputs": [],
   "source": [
    "normalized_df = (rank_df - rank_df.mean()) / rank_df.std()"
   ]
  },
  {
   "cell_type": "code",
   "execution_count": 12,
   "id": "bf89149c",
   "metadata": {},
   "outputs": [
    {
     "data": {
      "text/html": [
       "<div>\n",
       "<style scoped>\n",
       "    .dataframe tbody tr th:only-of-type {\n",
       "        vertical-align: middle;\n",
       "    }\n",
       "\n",
       "    .dataframe tbody tr th {\n",
       "        vertical-align: top;\n",
       "    }\n",
       "\n",
       "    .dataframe thead th {\n",
       "        text-align: right;\n",
       "    }\n",
       "</style>\n",
       "<table border=\"1\" class=\"dataframe\">\n",
       "  <thead>\n",
       "    <tr style=\"text-align: right;\">\n",
       "      <th></th>\n",
       "      <th>TotalSales</th>\n",
       "      <th>OrderCount</th>\n",
       "      <th>AvgOrderValue</th>\n",
       "    </tr>\n",
       "    <tr>\n",
       "      <th>CustomerID</th>\n",
       "      <th></th>\n",
       "      <th></th>\n",
       "      <th></th>\n",
       "    </tr>\n",
       "  </thead>\n",
       "  <tbody>\n",
       "    <tr>\n",
       "      <th>12346.0</th>\n",
       "      <td>1.724999</td>\n",
       "      <td>-1.731446</td>\n",
       "      <td>1.731446</td>\n",
       "    </tr>\n",
       "    <tr>\n",
       "      <th>12347.0</th>\n",
       "      <td>1.457445</td>\n",
       "      <td>1.064173</td>\n",
       "      <td>1.401033</td>\n",
       "    </tr>\n",
       "    <tr>\n",
       "      <th>12348.0</th>\n",
       "      <td>0.967466</td>\n",
       "      <td>0.573388</td>\n",
       "      <td>0.929590</td>\n",
       "    </tr>\n",
       "    <tr>\n",
       "      <th>12349.0</th>\n",
       "      <td>0.944096</td>\n",
       "      <td>-1.730641</td>\n",
       "      <td>1.683093</td>\n",
       "    </tr>\n",
       "    <tr>\n",
       "      <th>12350.0</th>\n",
       "      <td>-0.732148</td>\n",
       "      <td>-1.729835</td>\n",
       "      <td>0.331622</td>\n",
       "    </tr>\n",
       "    <tr>\n",
       "      <th>12352.0</th>\n",
       "      <td>1.193114</td>\n",
       "      <td>1.309162</td>\n",
       "      <td>0.169639</td>\n",
       "    </tr>\n",
       "    <tr>\n",
       "      <th>12353.0</th>\n",
       "      <td>-1.636352</td>\n",
       "      <td>-1.729029</td>\n",
       "      <td>-1.570269</td>\n",
       "    </tr>\n",
       "    <tr>\n",
       "      <th>12354.0</th>\n",
       "      <td>0.508917</td>\n",
       "      <td>-1.728223</td>\n",
       "      <td>1.612981</td>\n",
       "    </tr>\n",
       "    <tr>\n",
       "      <th>12355.0</th>\n",
       "      <td>-0.386422</td>\n",
       "      <td>-1.727417</td>\n",
       "      <td>0.970690</td>\n",
       "    </tr>\n",
       "    <tr>\n",
       "      <th>12356.0</th>\n",
       "      <td>1.268868</td>\n",
       "      <td>0.158357</td>\n",
       "      <td>1.557375</td>\n",
       "    </tr>\n",
       "    <tr>\n",
       "      <th>12357.0</th>\n",
       "      <td>1.580746</td>\n",
       "      <td>-1.726611</td>\n",
       "      <td>1.729029</td>\n",
       "    </tr>\n",
       "    <tr>\n",
       "      <th>12358.0</th>\n",
       "      <td>-0.331622</td>\n",
       "      <td>-1.725805</td>\n",
       "      <td>1.045637</td>\n",
       "    </tr>\n",
       "    <tr>\n",
       "      <th>12359.0</th>\n",
       "      <td>1.585581</td>\n",
       "      <td>0.574194</td>\n",
       "      <td>1.672617</td>\n",
       "    </tr>\n",
       "    <tr>\n",
       "      <th>12360.0</th>\n",
       "      <td>1.233409</td>\n",
       "      <td>0.159163</td>\n",
       "      <td>1.537228</td>\n",
       "    </tr>\n",
       "    <tr>\n",
       "      <th>12361.0</th>\n",
       "      <td>-1.243079</td>\n",
       "      <td>-1.724999</td>\n",
       "      <td>-0.776471</td>\n",
       "    </tr>\n",
       "    <tr>\n",
       "      <th>12362.0</th>\n",
       "      <td>1.504187</td>\n",
       "      <td>1.387333</td>\n",
       "      <td>1.151208</td>\n",
       "    </tr>\n",
       "    <tr>\n",
       "      <th>12363.0</th>\n",
       "      <td>-0.197039</td>\n",
       "      <td>-0.491188</td>\n",
       "      <td>-0.111615</td>\n",
       "    </tr>\n",
       "    <tr>\n",
       "      <th>12364.0</th>\n",
       "      <td>0.425911</td>\n",
       "      <td>0.159968</td>\n",
       "      <td>0.330816</td>\n",
       "    </tr>\n",
       "  </tbody>\n",
       "</table>\n",
       "</div>"
      ],
      "text/plain": [
       "            TotalSales  OrderCount  AvgOrderValue\n",
       "CustomerID                                       \n",
       "12346.0       1.724999   -1.731446       1.731446\n",
       "12347.0       1.457445    1.064173       1.401033\n",
       "12348.0       0.967466    0.573388       0.929590\n",
       "12349.0       0.944096   -1.730641       1.683093\n",
       "12350.0      -0.732148   -1.729835       0.331622\n",
       "12352.0       1.193114    1.309162       0.169639\n",
       "12353.0      -1.636352   -1.729029      -1.570269\n",
       "12354.0       0.508917   -1.728223       1.612981\n",
       "12355.0      -0.386422   -1.727417       0.970690\n",
       "12356.0       1.268868    0.158357       1.557375\n",
       "12357.0       1.580746   -1.726611       1.729029\n",
       "12358.0      -0.331622   -1.725805       1.045637\n",
       "12359.0       1.585581    0.574194       1.672617\n",
       "12360.0       1.233409    0.159163       1.537228\n",
       "12361.0      -1.243079   -1.724999      -0.776471\n",
       "12362.0       1.504187    1.387333       1.151208\n",
       "12363.0      -0.197039   -0.491188      -0.111615\n",
       "12364.0       0.425911    0.159968       0.330816"
      ]
     },
     "execution_count": 12,
     "metadata": {},
     "output_type": "execute_result"
    }
   ],
   "source": [
    "normalized_df.head(18)"
   ]
  },
  {
   "cell_type": "code",
   "execution_count": 13,
   "id": "8cbd6d9d",
   "metadata": {},
   "outputs": [
    {
     "data": {
      "text/html": [
       "<div>\n",
       "<style scoped>\n",
       "    .dataframe tbody tr th:only-of-type {\n",
       "        vertical-align: middle;\n",
       "    }\n",
       "\n",
       "    .dataframe tbody tr th {\n",
       "        vertical-align: top;\n",
       "    }\n",
       "\n",
       "    .dataframe thead th {\n",
       "        text-align: right;\n",
       "    }\n",
       "</style>\n",
       "<table border=\"1\" class=\"dataframe\">\n",
       "  <thead>\n",
       "    <tr style=\"text-align: right;\">\n",
       "      <th></th>\n",
       "      <th>TotalSales</th>\n",
       "      <th>OrderCount</th>\n",
       "      <th>AvgOrderValue</th>\n",
       "    </tr>\n",
       "  </thead>\n",
       "  <tbody>\n",
       "    <tr>\n",
       "      <th>count</th>\n",
       "      <td>4298.000000</td>\n",
       "      <td>4298.000000</td>\n",
       "      <td>4.298000e+03</td>\n",
       "    </tr>\n",
       "    <tr>\n",
       "      <th>mean</th>\n",
       "      <td>0.000000</td>\n",
       "      <td>0.000000</td>\n",
       "      <td>-6.612776e-18</td>\n",
       "    </tr>\n",
       "    <tr>\n",
       "      <th>std</th>\n",
       "      <td>1.000000</td>\n",
       "      <td>1.000000</td>\n",
       "      <td>1.000000e+00</td>\n",
       "    </tr>\n",
       "    <tr>\n",
       "      <th>min</th>\n",
       "      <td>-1.731446</td>\n",
       "      <td>-1.731446</td>\n",
       "      <td>-1.731446e+00</td>\n",
       "    </tr>\n",
       "    <tr>\n",
       "      <th>25%</th>\n",
       "      <td>-0.865723</td>\n",
       "      <td>-0.865723</td>\n",
       "      <td>-8.657232e-01</td>\n",
       "    </tr>\n",
       "    <tr>\n",
       "      <th>50%</th>\n",
       "      <td>0.000000</td>\n",
       "      <td>0.000000</td>\n",
       "      <td>0.000000e+00</td>\n",
       "    </tr>\n",
       "    <tr>\n",
       "      <th>75%</th>\n",
       "      <td>0.865723</td>\n",
       "      <td>0.865723</td>\n",
       "      <td>8.657232e-01</td>\n",
       "    </tr>\n",
       "    <tr>\n",
       "      <th>max</th>\n",
       "      <td>1.731446</td>\n",
       "      <td>1.731446</td>\n",
       "      <td>1.731446e+00</td>\n",
       "    </tr>\n",
       "  </tbody>\n",
       "</table>\n",
       "</div>"
      ],
      "text/plain": [
       "        TotalSales   OrderCount  AvgOrderValue\n",
       "count  4298.000000  4298.000000   4.298000e+03\n",
       "mean      0.000000     0.000000  -6.612776e-18\n",
       "std       1.000000     1.000000   1.000000e+00\n",
       "min      -1.731446    -1.731446  -1.731446e+00\n",
       "25%      -0.865723    -0.865723  -8.657232e-01\n",
       "50%       0.000000     0.000000   0.000000e+00\n",
       "75%       0.865723     0.865723   8.657232e-01\n",
       "max       1.731446     1.731446   1.731446e+00"
      ]
     },
     "execution_count": 13,
     "metadata": {},
     "output_type": "execute_result"
    }
   ],
   "source": [
    "normalized_df.describe()"
   ]
  },
  {
   "cell_type": "markdown",
   "id": "ed9bb088",
   "metadata": {},
   "source": [
    "#3. Customer Segmentation via K-Means Clustering"
   ]
  },
  {
   "cell_type": "code",
   "execution_count": 14,
   "id": "11f01530",
   "metadata": {},
   "outputs": [],
   "source": [
    "\n",
    "from sklearn.cluster import KMeans\n"
   ]
  },
  {
   "cell_type": "markdown",
   "id": "4c84ca3b",
   "metadata": {},
   "source": [
    "# K-Means Clustering"
   ]
  },
  {
   "cell_type": "code",
   "execution_count": 15,
   "id": "f097590a",
   "metadata": {},
   "outputs": [
    {
     "name": "stderr",
     "output_type": "stream",
     "text": [
      "C:\\Users\\Acer\\anaconda3\\lib\\site-packages\\sklearn\\cluster\\_kmeans.py:870: FutureWarning: The default value of `n_init` will change from 10 to 'auto' in 1.4. Set the value of `n_init` explicitly to suppress the warning\n",
      "  warnings.warn(\n"
     ]
    }
   ],
   "source": [
    "\n",
    "kmeans = KMeans(n_clusters=4).fit(normalized_df[['TotalSales', 'OrderCount', 'AvgOrderValue']])"
   ]
  },
  {
   "cell_type": "code",
   "execution_count": 16,
   "id": "f7c7456a",
   "metadata": {},
   "outputs": [
    {
     "data": {
      "text/plain": [
       "array([3, 1, 1, ..., 0, 2, 1])"
      ]
     },
     "execution_count": 16,
     "metadata": {},
     "output_type": "execute_result"
    }
   ],
   "source": [
    "\n",
    "kmeans.labels_\n"
   ]
  },
  {
   "cell_type": "code",
   "execution_count": 17,
   "id": "d99ad359",
   "metadata": {},
   "outputs": [
    {
     "data": {
      "text/plain": [
       "array([[-1.24710672, -0.79832009, -1.0614356 ],\n",
       "       [ 1.20623767,  1.00587146,  0.86737285],\n",
       "       [ 0.21602395,  0.71335285, -0.6427677 ],\n",
       "       [-0.13271459, -0.85015948,  0.79867829]])"
      ]
     },
     "execution_count": 17,
     "metadata": {},
     "output_type": "execute_result"
    }
   ],
   "source": [
    "kmeans.cluster_centers_"
   ]
  },
  {
   "cell_type": "code",
   "execution_count": 18,
   "id": "485bef3b",
   "metadata": {},
   "outputs": [],
   "source": [
    "four_cluster_df = normalized_df[['TotalSales', 'OrderCount', 'AvgOrderValue']].copy(deep=True)\n",
    "four_cluster_df['Cluster'] = kmeans.labels_"
   ]
  },
  {
   "cell_type": "code",
   "execution_count": 19,
   "id": "933df9a5",
   "metadata": {},
   "outputs": [
    {
     "data": {
      "image/png": "[encoded data removed]",
      "text/plain": [
       "<Figure size 640x480 with 1 Axes>"
      ]
     },
     "metadata": {},
     "output_type": "display_data"
    }
   ],
   "source": [
    "import matplotlib.pyplot as plt\n",
    "plt.scatter(\n",
    "four_cluster_df.loc[four_cluster_df['Cluster'] == 0]['OrderCount'], four_cluster_df.loc[four_cluster_df['Cluster'] == 0]['TotalSales'], c='blue'\n",
    ")\n",
    "\n",
    "plt.scatter(\n",
    "four_cluster_df.loc[four_cluster_df['Cluster'] == 1]['OrderCount'], four_cluster_df.loc[four_cluster_df['Cluster'] == 1]['TotalSales'], c='red'\n",
    ")\n",
    "\n",
    "plt.scatter(\n",
    "four_cluster_df.loc[four_cluster_df['Cluster'] == 2]['OrderCount'], four_cluster_df.loc[four_cluster_df['Cluster'] == 2]['TotalSales'], c='orange'\n",
    ")\n",
    "\n",
    "plt.scatter(\n",
    "four_cluster_df.loc[four_cluster_df['Cluster'] == 3]['OrderCount'], four_cluster_df.loc[four_cluster_df['Cluster'] == 3]['TotalSales'], c='green'\n",
    ")\n",
    "\n",
    "plt.title('TotalSales vs. OrderCount Clusters') \n",
    "plt.xlabel('Order Count')\n",
    "plt.ylabel('Total Sales')\n",
    "\n",
    "plt.grid() \n",
    "plt.show()\n"
   ]
  },
  {
   "cell_type": "markdown",
   "id": "822cfa57",
   "metadata": {},
   "source": [
    "# Selecting the best number of clusters"
   ]
  },
  {
   "cell_type": "code",
   "execution_count": 20,
   "id": "a2b2aa68",
   "metadata": {},
   "outputs": [
    {
     "name": "stderr",
     "output_type": "stream",
     "text": [
      "C:\\Users\\Acer\\anaconda3\\lib\\site-packages\\sklearn\\cluster\\_kmeans.py:870: FutureWarning: The default value of `n_init` will change from 10 to 'auto' in 1.4. Set the value of `n_init` explicitly to suppress the warning\n",
      "  warnings.warn(\n"
     ]
    },
    {
     "ename": "NameError",
     "evalue": "name 'silhouette_score' is not defined",
     "output_type": "error",
     "traceback": [
      "\u001b[1;31m---------------------------------------------------------------------------\u001b[0m",
      "\u001b[1;31mNameError\u001b[0m                                 Traceback (most recent call last)",
      "Cell \u001b[1;32mIn[20], line 5\u001b[0m\n\u001b[0;32m      1\u001b[0m \u001b[38;5;28;01mfor\u001b[39;00m n_cluster \u001b[38;5;129;01min\u001b[39;00m [\u001b[38;5;241m4\u001b[39m,\u001b[38;5;241m5\u001b[39m,\u001b[38;5;241m6\u001b[39m,\u001b[38;5;241m7\u001b[39m,\u001b[38;5;241m8\u001b[39m]:\n\u001b[0;32m      2\u001b[0m     kmeans \u001b[38;5;241m=\u001b[39m KMeans(n_clusters\u001b[38;5;241m=\u001b[39mn_cluster)\u001b[38;5;241m.\u001b[39mfit(\n\u001b[0;32m      3\u001b[0m         normalized_df[[\u001b[38;5;124m'\u001b[39m\u001b[38;5;124mTotalSales\u001b[39m\u001b[38;5;124m'\u001b[39m, \u001b[38;5;124m'\u001b[39m\u001b[38;5;124mOrderCount\u001b[39m\u001b[38;5;124m'\u001b[39m, \u001b[38;5;124m'\u001b[39m\u001b[38;5;124mAvgOrderValue\u001b[39m\u001b[38;5;124m'\u001b[39m]]\n\u001b[0;32m      4\u001b[0m     )\n\u001b[1;32m----> 5\u001b[0m     silhouette_avg \u001b[38;5;241m=\u001b[39m \u001b[43msilhouette_score\u001b[49m(\n\u001b[0;32m      6\u001b[0m         normalized_df[[\u001b[38;5;124m'\u001b[39m\u001b[38;5;124mTotalSales\u001b[39m\u001b[38;5;124m'\u001b[39m, \u001b[38;5;124m'\u001b[39m\u001b[38;5;124mOrderCount\u001b[39m\u001b[38;5;124m'\u001b[39m, \u001b[38;5;124m'\u001b[39m\u001b[38;5;124mAvgOrderValue\u001b[39m\u001b[38;5;124m'\u001b[39m]], \n\u001b[0;32m      7\u001b[0m         kmeans\u001b[38;5;241m.\u001b[39mlabels_\n\u001b[0;32m      8\u001b[0m     )\n\u001b[0;32m     10\u001b[0m     \u001b[38;5;28mprint\u001b[39m(\u001b[38;5;124m'\u001b[39m\u001b[38;5;124mSilhouette Score for \u001b[39m\u001b[38;5;132;01m%i\u001b[39;00m\u001b[38;5;124m Clusters: \u001b[39m\u001b[38;5;132;01m%0.4f\u001b[39;00m\u001b[38;5;124m'\u001b[39m \u001b[38;5;241m%\u001b[39m (n_cluster, silhouette_avg))\n",
      "\u001b[1;31mNameError\u001b[0m: name 'silhouette_score' is not defined"
     ]
    }
   ],
   "source": [
    "\n",
    "for n_cluster in [4,5,6,7,8]:\n",
    "    kmeans = KMeans(n_clusters=n_cluster).fit(\n",
    "        normalized_df[['TotalSales', 'OrderCount', 'AvgOrderValue']]\n",
    "    )\n",
    "    silhouette_avg = silhouette_score(\n",
    "        normalized_df[['TotalSales', 'OrderCount', 'AvgOrderValue']], \n",
    "        kmeans.labels_\n",
    "    )\n",
    "    \n",
    "    print('Silhouette Score for %i Clusters: %0.4f' % (n_cluster, silhouette_avg))"
   ]
  },
  {
   "cell_type": "markdown",
   "id": "0159be20",
   "metadata": {},
   "source": [
    "# Interpreting Customer Segments"
   ]
  },
  {
   "cell_type": "code",
   "execution_count": null,
   "id": "9390dadb",
   "metadata": {},
   "outputs": [],
   "source": [
    "\n",
    "kmeans = KMeans(n_clusters=4).fit(\n",
    "normalized_df[['TotalSales', 'OrderCount', 'AvgOrderValue']]\n",
    ")\n",
    "\n",
    "four_cluster_df = normalized_df[['TotalSales', 'OrderCount', 'AvgOrderValue']].copy(deep=True)\n",
    "four_cluster_df['Cluster'] = kmeans.labels_\n"
   ]
  },
  {
   "cell_type": "code",
   "execution_count": null,
   "id": "93cbed34",
   "metadata": {},
   "outputs": [],
   "source": [
    "four_cluster_df.head(16)"
   ]
  },
  {
   "cell_type": "code",
   "execution_count": null,
   "id": "be6d0d23",
   "metadata": {},
   "outputs": [],
   "source": [
    "kmeans.cluster_centers_"
   ]
  },
  {
   "cell_type": "code",
   "execution_count": null,
   "id": "1f1c1f41",
   "metadata": {},
   "outputs": [],
   "source": [
    "\n",
    "high_value_cluster = four_cluster_df.loc[four_cluster_df['Cluster'] == 2] \n",
    "pd.DataFrame( \n",
    "df.loc[\n",
    "df['CustomerID'].isin(high_value_cluster.index)\n",
    "].groupby('Description').count()[ 'StockCode'\n",
    "].sort_values(ascending=False).head()\n",
    ")\n"
   ]
  },
  {
   "cell_type": "code",
   "execution_count": null,
   "id": "333146ac",
   "metadata": {},
   "outputs": [],
   "source": []
  }
 ],
 "metadata": {
  "kernelspec": {
   "display_name": "Python 3 (ipykernel)",
   "language": "python",
   "name": "python3"
  },
  "language_info": {
   "codemirror_mode": {
    "name": "ipython",
    "version": 3
   },
   "file_extension": ".py",
   "mimetype": "text/x-python",
   "name": "python",
   "nbconvert_exporter": "python",
   "pygments_lexer": "ipython3",
   "version": "3.10.9"
  }
 },
 "nbformat": 4,
 "nbformat_minor": 5
}
